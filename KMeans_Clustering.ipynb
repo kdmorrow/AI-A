{
 "cells": [
  {
   "cell_type": "markdown",
   "id": "f5fa89b6-b53b-4560-b35d-b183fee2b952",
   "metadata": {},
   "source": [
    "### Member Segmentatoin: K Means Clustering"
   ]
  },
  {
   "cell_type": "code",
   "execution_count": 2,
   "id": "34a297b8-38e4-4eb3-b1df-7ebc6843db70",
   "metadata": {},
   "outputs": [],
   "source": [
    "import pandas as pd\n",
    "import numpy as np\n",
    "import matplotlib.pyplot as plt\n",
    "from sklearn.cluster import KMeans\n",
    "from sklearn.datasets import make_blobs\n",
    "from sklearn.preprocessing import StandardScaler\n",
    "from sklearn.metrics import silhouette_score"
   ]
  },
  {
   "cell_type": "markdown",
   "id": "f7e6176c-8160-4f25-a037-a066c18258bd",
   "metadata": {},
   "source": [
    "# load data"
   ]
  },
  {
   "cell_type": "code",
   "execution_count": null,
   "id": "8315616a-5360-4524-bb47-85b616cbd045",
   "metadata": {},
   "outputs": [],
   "source": [
    "df = pd.read_csv('yourfile.csv')"
   ]
  },
  {
   "cell_type": "code",
   "execution_count": null,
   "id": "9e8957a0-8591-4893-b5b5-e91722759c8d",
   "metadata": {},
   "outputs": [],
   "source": [
    "#filter for top 10% based on df column \n",
    "top10 = df[df.column > df.column.quantile(0.9)]\n",
    "\n",
    "#remove categorical columns and remove unknowns, nans, etc. \n",
    "top10 = top10.drop([col for col in top10.columns if top10[col].eq('Unknown').any()], axis=1)\n",
    "\n",
    "#drop columns that don't provide info\n",
    "top10 = top10.drop(columns=['column_name', 'column_name']\n",
    "\n",
    "#convert member id to a string with no decimals \n",
    "top10['member_id'] = top10['member_id'].astype(str)\n",
    "top10['member_id'] = top10['member_id'].str[:-2]\n",
    "\n",
    "#reset index to member id\n",
    "top10.reset_index().set_index('member_id')\n",
    "\n",
    "top10"
   ]
  },
  {
   "cell_type": "code",
   "execution_count": null,
   "id": "1e45da78-c1d9-4644-b807-c6777bcfa452",
   "metadata": {},
   "outputs": [],
   "source": [
    "#need numerical column types to run k means\n",
    "top10 = top10.apply(pd.to_numeric, errors='coerce')\n",
    "top10.info()"
   ]
  },
  {
   "cell_type": "markdown",
   "id": "734fe386-41af-4ec6-a740-a7f4584a7bd8",
   "metadata": {},
   "source": [
    "# Set up K Means"
   ]
  },
  {
   "cell_type": "code",
   "execution_count": null,
   "id": "5e3294d3-a31c-4ef4-afd9-7e774e6b4997",
   "metadata": {},
   "outputs": [],
   "source": [
    "scaled = StandardScaler().fit_transform(top10)\n",
    "#initialize kmeans parameters\n",
    "kmeans_kwargs = {\n",
    "\"init\": \"random\",\n",
    "\"n_init\": 10,\n",
    "\"random_state\": 1,\n",
    "}\n",
    "\n",
    "#create list to hold SSE values\n",
    "sse = []\n",
    "for k in range(1, 11):\n",
    "    kmeans = KMeans(n_clusters=k, **kmeans_kwargs)\n",
    "    kmeans.fit(scaled)\n",
    "    sse.append(kmeans.inertia_)\n",
    "\n",
    "#visualize\n",
    "plt.plot(range(1, 11), sse)\n",
    "plt.xticks(range(1, 11))\n",
    "plt.xlabel(\"Number of Clusters\")\n",
    "plt.ylabel(\"SSE\")\n",
    "plt.show()"
   ]
  },
  {
   "cell_type": "code",
   "execution_count": null,
   "id": "132537fa-f199-4526-91b2-edf0086bd94f",
   "metadata": {},
   "outputs": [],
   "source": [
    "# Define the range of clusters\n",
    "cluster_range = range(2, 7)\n",
    "\n",
    "# Initialize lists to store cluster numbers and silhouette scores\n",
    "cluster_numbers = []\n",
    "silhouette_scores = []\n",
    "\n",
    "# Iterate through different cluster numbers\n",
    "for k in cluster_range:\n",
    "    # Fit the k-means model\n",
    "    kmeans = KMeans(n_clusters=k, random_state=42)\n",
    "    kmeans.fit(top10)\n",
    "\n",
    "    # Predict clusters for each data point\n",
    "    labels = kmeans.labels_\n",
    "\n",
    "    # Calculate silhouette score\n",
    "    silhouette_avg = silhouette_score(top10, labels)\n",
    "\n",
    "    # Append cluster number and silhouette score to lists\n",
    "    cluster_numbers.append(k)\n",
    "    silhouette_scores.append(silhouette_avg)\n",
    "\n",
    "# Print\n",
    "for k, score in zip(cluster_numbers, silhouette_scores):\n",
    "    print(f\"Number of Clusters (k): {k}, Silhouette Score: {score}\")\n",
    "\n",
    "# Plot\n",
    "plt.plot(cluster_numbers, silhouette_scores, marker='o')\n",
    "plt.title('Silhouette Score for Different K Values')\n",
    "plt.xlabel('Number of Clusters (k)')\n",
    "plt.ylabel('Silhouette Score')\n",
    "plt.show()"
   ]
  },
  {
   "cell_type": "markdown",
   "id": "907d054d-4cbc-4627-beca-36a2dc11ab94",
   "metadata": {},
   "source": [
    "# Optimal Clusters "
   ]
  },
  {
   "cell_type": "code",
   "execution_count": null,
   "id": "c4e442e4-0c4b-405c-b8da-e63f6b35b748",
   "metadata": {},
   "outputs": [],
   "source": [
    "#set up for optimal clusters\n",
    "kmeans = KMeans(n_clusters=7, random_state=42)\n",
    "kmeans.fit(top10)\n",
    "labels = kmeans.labels_\n",
    "centroids = kmeans.cluster_centers_\n",
    "cluster_assignments = kmeans.predict(top10)\n",
    "top10['Cluster'] = cluster_assignments\n",
    "top10.Cluster.value_counts()"
   ]
  },
  {
   "cell_type": "markdown",
   "id": "62a09faf-9a30-48a0-a540-4214a3e8141c",
   "metadata": {},
   "source": [
    "# Cluster Characteristics"
   ]
  },
  {
   "cell_type": "code",
   "execution_count": null,
   "id": "89241be5-556f-464e-a4eb-1bde351bff74",
   "metadata": {},
   "outputs": [],
   "source": [
    "#Averages for each cluster\n",
    "clusters_avg = top10.groupby('Cluster').mean()\n",
    "clusters_total = top10.groupby('Cluster').sum()\n",
    "clusters_med = top10.groupby('Cluster').median()\n",
    "#clusters_avg = clusters_avg.drop('index', axis=1)"
   ]
  },
  {
   "cell_type": "code",
   "execution_count": null,
   "id": "dc08a2d0-a548-4661-aafa-ae3b8ddf8c70",
   "metadata": {},
   "outputs": [],
   "source": [
    "#Average for each cluster\n",
    "clusters_avg = clusters_avg.T\n",
    "clusters_avg"
   ]
  },
  {
   "cell_type": "code",
   "execution_count": null,
   "id": "a1e2a26a-f49b-4a23-9298-359ffc950c0a",
   "metadata": {},
   "outputs": [],
   "source": [
    "#Median for each cluster\n",
    "clusters_med = clusters_med.T\n",
    "clusters_med"
   ]
  },
  {
   "cell_type": "code",
   "execution_count": null,
   "id": "ef25672e-5ec6-4ead-8d22-daa948de2999",
   "metadata": {},
   "outputs": [],
   "source": [
    "#Total for each cluster\n",
    "clusters_tot = clusters_total.T\n",
    "clusters_tot"
   ]
  }
 ],
 "metadata": {
  "kernelspec": {
   "display_name": "Python 3 (ipykernel)",
   "language": "python",
   "name": "python3"
  },
  "language_info": {
   "codemirror_mode": {
    "name": "ipython",
    "version": 3
   },
   "file_extension": ".py",
   "mimetype": "text/x-python",
   "name": "python",
   "nbconvert_exporter": "python",
   "pygments_lexer": "ipython3",
   "version": "3.11.5"
  }
 },
 "nbformat": 4,
 "nbformat_minor": 5
}
